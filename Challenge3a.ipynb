{
 "cells": [
  {
   "cell_type": "markdown",
   "metadata": {
    "deletable": false,
    "id": "KjYmCKn_IqVb",
    "nbgrader": {
     "cell_type": "markdown",
     "checksum": "b357274435b8cb76c6be7d6731bf6c7f",
     "grade": false,
     "grade_id": "intro-chal-03a",
     "locked": true,
     "schema_version": 3,
     "solution": false,
     "task": false
    },
    "tags": []
   },
   "source": [
    "### Before you start...\n",
    "\n",
    "Before you start solving the challenge, press `Ctrl-Enter` (PC) or `Command-Enter` (Mac) in the cell below. It will load the modules needed for testing and auto-grading the challenges. After you did, a number between the square brackets will appear in front of the cell, like - for example:\n",
    "```python\n",
    "[1]\n",
    "```\n",
    "If successful, the following message will appear below the first cell:\n",
    "```python\n",
    "Assertions imported OK\n",
    "Test cells imported OK\n",
    "```"
   ]
  },
  {
   "cell_type": "code",
   "execution_count": 2,
   "metadata": {
    "deletable": false,
    "id": "h8x4OStuDkXJ",
    "nbgrader": {
     "cell_type": "code",
     "checksum": "83f97ca7bf218041aebf583ab928759c",
     "grade": false,
     "grade_id": "import-chal-03a",
     "locked": true,
     "schema_version": 3,
     "solution": false,
     "task": false
    },
    "tags": []
   },
   "outputs": [
    {
     "name": "stdout",
     "output_type": "stream",
     "text": [
      "Collecting httpimport\n",
      "  Downloading httpimport-1.3.1-py2.py3-none-any.whl (17 kB)\n",
      "Installing collected packages: httpimport\n",
      "Successfully installed httpimport-1.3.1\n",
      "Assertions imported OK\n"
     ]
    }
   ],
   "source": [
    "# Run this cell first!\n",
    "!pip install httpimport\n",
    "import httpimport\n",
    "with httpimport.github_repo('eur-nl', 'assertions'):\n",
    "    from assertions import *\n",
    "with httpimport.github_repo('jjengelberts', 'precourse-test'):\n",
    "    from test_cells import *"
   ]
  },
  {
   "cell_type": "markdown",
   "metadata": {
    "deletable": false,
    "nbgrader": {
     "cell_type": "markdown",
     "checksum": "ddeacfdd540ea8ad8eed201fc42fb3d9",
     "grade": false,
     "grade_id": "spacer-chal-03a",
     "locked": true,
     "schema_version": 3,
     "solution": false,
     "task": false
    },
    "tags": []
   },
   "source": [
    "<br>\n",
    "<br>\n",
    "<br>\n",
    "<br>"
   ]
  },
  {
   "cell_type": "markdown",
   "metadata": {
    "deletable": false,
    "nbgrader": {
     "cell_type": "markdown",
     "checksum": "7e6da89bea5e01316881677a7ee86f5d",
     "grade": false,
     "grade_id": "explain-chal-03a",
     "locked": true,
     "schema_version": 3,
     "solution": false,
     "task": false
    },
    "tags": []
   },
   "source": [
    "## Challenge 3a: Conway's Game Of Life\n",
    "\n",
    "In this challenge, we are going to use 3x3 list of lists for our version of [Conway's Game of Life](https://en.wikipedia.org/wiki/Conway%27s_Game_of_Life). The Game of Life is a 0-player board game. Each square on the board represents a cell, which can be living or dead. In Figure 1, a 6x6 board is shown with 7 living cells (dark) and 29 dead cells (light).\n",
    "\n",
    "<table width=\"100%\">\n",
    "    <tr>\n",
    "        <td style=\"text-align: center\"><img src=\"https://raw.githubusercontent.com/jjengelberts/precourse-test/main/figures/98px-Game_of_life_loaf.svg.png\"><br><b>Figure 1</b> - showing 7 living and 29 dead cells</td>\n",
    "        <td style=\"text-align: center\"><img src=\"https://raw.githubusercontent.com/jjengelberts/precourse-test/main/figures/Game_of_life_animated_glider.gif\"><br><b>Figure 2</b> - the glider</td>\n",
    "    </tr>\n",
    "</table>\n",
    "\n",
    "As a player, you set up the board, *i.e.* the initial coloring of the cells. Each \"turn\" in the game will update the state of each cell. If the number of surroundings living cells is high enough, the cell will survive. To determine whether the cells survive or die, the following rules are applied:\n",
    "\n",
    "### Rules\n",
    "1. If a currently living cell has either two or three currently living neighbours, it will remain alive and otherwise it will die.\n",
    "2. If a currently dead cell has precisely three currently living neighbours, it will be revived to become a living cell and otherwise it will remain dead.\n",
    "\n",
    "These apparently simple rules actually give rise to some surprisingly complex behaviour. As an example, the so-called _glider_ (Figure 2) is an example of a kind of \"organism\" (connected bunch of cells) which will move forever, as the rules are applied over and over again, presuming the board were infinite in each direction.\n",
    "\n",
    "You will look whether the center cell should be alive or dead depending on the neighbouring cells. The 3x3 board is a list of lists with zeros (representing dead cells) and ones (representing living cells). To complete the function `challenge_3a(board)`, you only have to apply the first rule above and return the value `0` if the center cell will be dead in the next generation or `1` if it will be alive. You can follow the steps outlined below:\n",
    "\n",
    "### Steps\n",
    "1. Determine whether the center cell (the value at `board[1][1]`) is currently alive or dead\n",
    "2. Count the number of living cells surrounding the center cell\n",
    "3. Determine whether the center cell will be alive (`1`) or dead (`0`) in the next generation, based on the rules described above\n",
    "\n",
    "**TIP**: Use for loops to address all cells on the board. Skip the 1 in the center when you count the number of living cells. \n",
    "\n",
    "### Example visual 1\n",
    "<div>\n",
    "    <img src=\"https://raw.githubusercontent.com/jjengelberts/precourse-test/main/figures/dead_alive.png\" width=\"10%\"><br>\n",
    "    <b> Figure 3</b> - Dead cell surrounded by three live cells (will come to life)\n",
    "</div>\n",
    "\n",
    "### Example input 1\n",
    "```python\n",
    "[[1, 0, 0], [1, 0, 0], [0, 1, 0]]\n",
    "```  \n",
    "     \n",
    "### Example return value 1\n",
    "```python\n",
    "1\n",
    "```\n",
    "\n",
    "### Example visual 2\n",
    "<div>\n",
    "    <img src=\"https://raw.githubusercontent.com/jjengelberts/precourse-test/main/figures/alive_dead.png\" width=\"10%\"><br>\n",
    "    <b> Figure 4</b> - Living cell surrounded by four living cells (will die)\n",
    "</div>\n",
    "\n",
    "### Example input 2\n",
    "```python\n",
    "[[1, 0, 1], [0, 1, 0], [1, 0, 1]]\n",
    "```  \n",
    "     \n",
    "### Example return value 2\n",
    "```python\n",
    "0\n",
    "```"
   ]
  },
  {
   "cell_type": "code",
   "execution_count": 34,
   "metadata": {
    "deletable": false,
    "nbgrader": {
     "cell_type": "code",
     "checksum": "5d07f60ab07c23ed30729eb05ec130be",
     "grade": false,
     "grade_id": "code-chal-03a",
     "locked": false,
     "schema_version": 3,
     "solution": true,
     "task": false
    },
    "tags": []
   },
   "outputs": [],
   "source": [
    "# Code cell\n",
    "\n",
    "def challenge_3a(board):\n",
    "    # YOUR CODE HERE\n",
    "    raise NotImplementedError()"
   ]
  },
  {
   "cell_type": "code",
   "execution_count": 35,
   "metadata": {
    "deletable": false,
    "nbgrader": {
     "cell_type": "code",
     "checksum": "994af00835cb21f0388334b0fe66801b",
     "grade": false,
     "grade_id": "test-chal-03a",
     "locked": true,
     "schema_version": 3,
     "solution": false,
     "task": false
    },
    "tags": []
   },
   "outputs": [
    {
     "name": "stdout",
     "output_type": "stream",
     "text": [
      "\n",
      "Please enter a series of 3 zeroes and ones for row 1, separated by spaces (Press Enter for default values 1 0 0): 1 0 0\n",
      "Please enter a series of 3 zeroes and ones for row 2, separated by spaces (Press Enter for default values 1 0 0): 1 0 0\n",
      "Please enter a series of 3 zeroes and ones for row 3, separated by spaces (Press Enter for default values 0 1 0): 0 1 0\n",
      "0\n",
      "1\n",
      "2\n",
      "\n",
      "Your function returns '1' and hence indicates that the center cell will be alive.\n"
     ]
    }
   ],
   "source": [
    "# Test cell\n",
    "\n",
    "test_challenge_3a(challenge_3a)"
   ]
  },
  {
   "cell_type": "code",
   "execution_count": 36,
   "metadata": {
    "deletable": false,
    "nbgrader": {
     "cell_type": "code",
     "checksum": "8ef0e320d3d23d3b29f598cfc1484900",
     "grade": true,
     "grade_id": "assert-chal-03a",
     "locked": true,
     "points": 10,
     "schema_version": 3,
     "solution": false,
     "task": false
    },
    "tags": []
   },
   "outputs": [
    {
     "name": "stdout",
     "output_type": "stream",
     "text": [
      "Call challenge_3a([[1, 0, 0], [1, 0, 0], [0, 1, 0]]) ... OK\n",
      "Call challenge_3a([[1, 0, 1], [0, 1, 0], [1, 0, 1]]) ... OK\n",
      "Call challenge_3a([[0, 0, 0], [0, 1, 0], [0, 0, 0]]) ... OK\n",
      "Call challenge_3a([[1, 1, 1], [1, 0, 1], [1, 1, 1]]) ... OK\n",
      "Call challenge_3a([[0, 0, 0], [1, 1, 1], [0, 1, 0]]) ... OK\n",
      "Call challenge_3a([[0, 0, 1], [0, 0, 1], [0, 0, 1]]) ... OK\n",
      "\n",
      "Well done! You seem to have solved challenge_3a!\n"
     ]
    }
   ],
   "source": [
    "# Assertion cell\n",
    "\n",
    "check_assertion(challenge_3a)"
   ]
  },
  {
   "cell_type": "markdown",
   "metadata": {
    "deletable": false,
    "nbgrader": {
     "cell_type": "markdown",
     "checksum": "46e59a1f27a7f9b1c4c687786c854cd2",
     "grade": false,
     "grade_id": "next-chal-03a",
     "locked": true,
     "schema_version": 3,
     "solution": false,
     "task": false
    },
    "tags": []
   },
   "source": [
    "## Final remarks\n",
    "\n",
    "You have reached the end of this Precourse test!\n",
    "\n",
    "### Score of either 2 or 3 out of 3\n",
    "Depending on whether you solved this challenge, you will have either scored 2 or 3 out of 3 points. Of course, this is no guarantee since the result depends on the number of Google searches, ChatGPT requests and answers from friends you have used. If you are confident that you did it pretty much on your own, you are prepared for the course."
   ]
  }
 ],
 "metadata": {
  "colab": {
   "authorship_tag": "ABX9TyMUEcdmwI2GVB9qr8nWeY6I",
   "include_colab_link": true,
   "provenance": []
  },
  "kernelspec": {
   "display_name": "Python 3 (ipykernel)",
   "language": "python",
   "name": "python3"
  },
  "language_info": {
   "codemirror_mode": {
    "name": "ipython",
    "version": 3
   },
   "file_extension": ".py",
   "mimetype": "text/x-python",
   "name": "python",
   "nbconvert_exporter": "python",
   "pygments_lexer": "ipython3",
   "version": "3.8.5"
  }
 },
 "nbformat": 4,
 "nbformat_minor": 4
}
