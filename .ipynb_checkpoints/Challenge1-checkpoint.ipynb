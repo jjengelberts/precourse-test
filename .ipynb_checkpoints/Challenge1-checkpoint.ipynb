{
 "cells": [
  {
   "cell_type": "markdown",
   "metadata": {
    "deletable": false,
    "editable": false,
    "id": "KjYmCKn_IqVb",
    "nbgrader": {
     "cell_type": "markdown",
     "checksum": "9b04facca1145f50c9644de4600f5975",
     "grade": false,
     "grade_id": "intro-chal-01",
     "locked": true,
     "schema_version": 3,
     "solution": false,
     "task": false
    },
    "tags": []
   },
   "source": [
    "# Off We Go!\n",
    "\n",
    "Before you start solving the challenge, press `Ctrl-Enter` (PC) or `Command-Enter` (Mac) in the cell below. It will load the modules needed for testing and auto-grading the challenges. After you did, a number between the square brackets will appear in front of the cell, like - for example:\n",
    "```python\n",
    "[1]\n",
    "```\n",
    "If successful, the following message will appear below the first cell:\n",
    "```python\n",
    "Assertions imported OK\n",
    "Test cells imported OK\n",
    "```"
   ]
  },
  {
   "cell_type": "code",
   "execution_count": null,
   "metadata": {
    "deletable": false,
    "editable": false,
    "id": "h8x4OStuDkXJ",
    "nbgrader": {
     "cell_type": "code",
     "checksum": "32c3bd576482a70f3d7a298778fbf27e",
     "grade": false,
     "grade_id": "import-chal-01",
     "locked": true,
     "schema_version": 3,
     "solution": false,
     "task": false
    },
    "tags": []
   },
   "outputs": [],
   "source": [
    "# Run this cell first!\n",
    "\n",
    "import httpimport\n",
    "with httpimport.github_repo('eur-nl', 'assertions'):\n",
    "    from assertions import *\n",
    "with httpimport.github_repo('jjengelberts', 'precourse-test'):\n",
    "    from test_cells import *"
   ]
  },
  {
   "cell_type": "markdown",
   "metadata": {
    "deletable": false,
    "editable": false,
    "nbgrader": {
     "cell_type": "markdown",
     "checksum": "fbc684924798514eab847dd4ab3f13af",
     "grade": false,
     "grade_id": "spacer-chal-01",
     "locked": true,
     "schema_version": 3,
     "solution": false,
     "task": false
    },
    "tags": []
   },
   "source": [
    "<br>\n",
    "<br>\n",
    "<br>\n",
    "<br>"
   ]
  },
  {
   "cell_type": "markdown",
   "metadata": {
    "deletable": false,
    "editable": false,
    "nbgrader": {
     "cell_type": "markdown",
     "checksum": "f383e28b14f7028a8ce3e2210f9dc562",
     "grade": false,
     "grade_id": "explain-chal-01",
     "locked": true,
     "schema_version": 3,
     "solution": false,
     "task": false
    },
    "tags": []
   },
   "source": [
    "## Challenge 1\n",
    "\n",
    "In this first challenge, you will be requested to finalize the function `challenge_1(a, b, c)`. Your function should compare the 3 arguments `a`, `b` and `c` and return the highest value.\n",
    "\n",
    "For example, if $a=3$, $b=7$ and $c=5$, `challenge_1(a, b, c)` should return the value for $b$, being $7$.\n",
    "\n",
    "### Example input\n",
    "```python\n",
    "3\n",
    "7\n",
    "5\n",
    "```\n",
    "\n",
    "### Example return value\n",
    "```python\n",
    "7\n",
    "```"
   ]
  },
  {
   "cell_type": "code",
   "execution_count": null,
   "metadata": {
    "deletable": false,
    "nbgrader": {
     "cell_type": "code",
     "checksum": "0b73827199958064e8fcec7a20cb4b27",
     "grade": false,
     "grade_id": "code-chal-01",
     "locked": false,
     "schema_version": 3,
     "solution": true,
     "task": false
    },
    "tags": []
   },
   "outputs": [],
   "source": [
    "# Code cell\n",
    "\n",
    "def challenge_1(a, b, c):\n",
    "    # YOUR CODE HERE\n",
    "    raise NotImplementedError()"
   ]
  },
  {
   "cell_type": "code",
   "execution_count": null,
   "metadata": {
    "deletable": false,
    "editable": false,
    "nbgrader": {
     "cell_type": "code",
     "checksum": "529c4424546af0dcfddbdc0ce078878f",
     "grade": false,
     "grade_id": "test-chal-01",
     "locked": true,
     "schema_version": 3,
     "solution": false,
     "task": false
    },
    "tags": []
   },
   "outputs": [],
   "source": [
    "# Test cell\n",
    "\n",
    "test_challenge_1(challenge_1)"
   ]
  },
  {
   "cell_type": "code",
   "execution_count": null,
   "metadata": {
    "deletable": false,
    "editable": false,
    "nbgrader": {
     "cell_type": "code",
     "checksum": "d5a663604236c6406b5dc2aba452fc32",
     "grade": true,
     "grade_id": "assert-chal-01",
     "locked": true,
     "points": 10,
     "schema_version": 3,
     "solution": false,
     "task": false
    },
    "tags": []
   },
   "outputs": [],
   "source": [
    "# Assertion cell\n",
    "\n",
    "check_assertion(challenge_1)"
   ]
  },
  {
   "cell_type": "markdown",
   "metadata": {
    "deletable": false,
    "editable": false,
    "nbgrader": {
     "cell_type": "markdown",
     "checksum": "8d7a72ebc29354f7a15b65a99f8f9533",
     "grade": false,
     "grade_id": "next-chal-01",
     "locked": true,
     "schema_version": 3,
     "solution": false,
     "task": false
    },
    "tags": []
   },
   "source": [
    "## Next challenge\n",
    "\n",
    "If you managed to solve this challenge, please do continue to **Challenge 2a**:\n",
    "\n",
    "<a href=\"https://colab.research.google.com/github/jjengelberts/precourse-test/blob/main/Challenge2a.ipynb\" target=\"_parent\"><img src=\"https://colab.research.google.com/assets/colab-badge.svg\" alt=\"Challenge 2a\"/></a>\n",
    "\n",
    "If you were not able to complete the challenge above, please do continue to **Challenge 2b**:\n",
    "\n",
    "<a href=\"https://colab.research.google.com/github/jjengelberts/precourse-test/blob/main/Challenge2b.ipynb\" target=\"_parent\"><img src=\"https://colab.research.google.com/assets/colab-badge.svg\" alt=\"Challenge 2b\"/></a>"
   ]
  }
 ],
 "metadata": {
  "colab": {
   "authorship_tag": "ABX9TyMUEcdmwI2GVB9qr8nWeY6I",
   "include_colab_link": true,
   "provenance": []
  },
  "kernelspec": {
   "display_name": "Python 3 (ipykernel)",
   "language": "python",
   "name": "python3"
  },
  "language_info": {
   "codemirror_mode": {
    "name": "ipython",
    "version": 3
   },
   "file_extension": ".py",
   "mimetype": "text/x-python",
   "name": "python",
   "nbconvert_exporter": "python",
   "pygments_lexer": "ipython3",
   "version": "3.8.5"
  }
 },
 "nbformat": 4,
 "nbformat_minor": 4
}
