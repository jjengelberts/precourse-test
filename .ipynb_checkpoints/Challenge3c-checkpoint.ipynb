{
 "cells": [
  {
   "cell_type": "markdown",
   "metadata": {
    "deletable": false,
    "id": "KjYmCKn_IqVb",
    "nbgrader": {
     "cell_type": "markdown",
     "checksum": "e7bd86c6aa700dd8051924f19d02573b",
     "grade": false,
     "grade_id": "intro-chal-03c",
     "locked": true,
     "schema_version": 3,
     "solution": false,
     "task": false
    },
    "tags": []
   },
   "source": [
    "### Before you start...\n",
    "\n",
    "Before you start solving the challenge, press `Ctrl-Enter` (PC) or `Command-Enter` (Mac) in the cell below. It will load the modules needed for testing and auto-grading the challenges. After you did, a number between the square brackets will appear in front of the cell, like - for example:\n",
    "```python\n",
    "[1]\n",
    "```\n",
    "If successful, the following message will appear below the first cell:\n",
    "```python\n",
    "Assertions imported OK\n",
    "Test cells imported OK\n",
    "```"
   ]
  },
  {
   "cell_type": "code",
   "execution_count": 4,
   "metadata": {
    "deletable": false,
    "id": "h8x4OStuDkXJ",
    "nbgrader": {
     "cell_type": "code",
     "checksum": "c4666fa9c097e3cd7a4cd8b5a10ae031",
     "grade": false,
     "grade_id": "import-chal-03c",
     "locked": true,
     "schema_version": 3,
     "solution": false,
     "task": false
    },
    "tags": []
   },
   "outputs": [
    {
     "name": "stdout",
     "output_type": "stream",
     "text": [
      "Assertions imported OK\n"
     ]
    }
   ],
   "source": [
    "# Run this cell first!\n",
    "\n",
    "import httpimport\n",
    "with httpimport.github_repo('eur-nl', 'assertions'):\n",
    "    from assertions import *\n",
    "with httpimport.github_repo('jjengelberts', 'precourse-test'):\n",
    "    from test_cells import *"
   ]
  },
  {
   "cell_type": "markdown",
   "metadata": {
    "deletable": false,
    "nbgrader": {
     "cell_type": "markdown",
     "checksum": "e3613d7342825c789c062f48a41de345",
     "grade": false,
     "grade_id": "spacer-chal-03c",
     "locked": true,
     "schema_version": 3,
     "solution": false,
     "task": false
    },
    "tags": []
   },
   "source": [
    "<br>\n",
    "<br>\n",
    "<br>\n",
    "<br>"
   ]
  },
  {
   "cell_type": "markdown",
   "metadata": {
    "deletable": false,
    "nbgrader": {
     "cell_type": "markdown",
     "checksum": "37ab14d6cc8122c947b38fa212672b4e",
     "grade": false,
     "grade_id": "explain-chal-03c",
     "locked": true,
     "schema_version": 3,
     "solution": false,
     "task": false
    },
    "tags": []
   },
   "source": [
    "## Challenge 3c: Reading Literature\n",
    "John and Mary are big fans of reading books. They both keep track of titles they have read. They compare their lists and are interested in the titles only one of them has read. Finalize the function `challenge_3c(john, mary)` in such a way that it returns a list (**sorted in alphabetical order**) with the titles that either John or Mary has read. The function arguments, `john` and `mary`, are lists with titles read by John and Mary, respectively.\n",
    "\n",
    "### Example input\n",
    "**John**\n",
    "```python\n",
    "['The Great Gatsby', 'Pride and Prejudice', 'The Catcher in the Rye', 'Wuthering Heights', 'Frankenstein']\n",
    "```\n",
    "\n",
    "**Mary**\n",
    "```python\n",
    "['Wuthering Heights', 'The Adventures of Huckleberry Finn', 'Jane Eyre', 'Pride and Prejudice', 'Animal Farm']\n",
    "```\n",
    "\n",
    "### Example return value\n",
    "```python\n",
    "['Animal Farm', 'Frankenstein', 'Jane Eyre', 'The Adventures of Huckleberry Finn', 'The Catcher in the Rye', 'The Great Gatsby']\n",
    "```\n",
    "\n",
    "**TIP** To test you can also use simple letters to make it easier on yourself. Consider both the possibility that a book is not read by John as well as a book"
   ]
  },
  {
   "cell_type": "code",
   "execution_count": 22,
   "metadata": {
    "deletable": false,
    "nbgrader": {
     "cell_type": "code",
     "checksum": "8a159b433772c51e7ef58eb5afcea38d",
     "grade": false,
     "grade_id": "code-chal-03c",
     "locked": false,
     "schema_version": 3,
     "solution": true,
     "task": false
    },
    "tags": []
   },
   "outputs": [],
   "source": [
    "# Code cell\n",
    "\n",
    "def challenge_3c(john, mary):\n",
    "    # YOUR CODE HERE\n",
    "    ls=[]\n",
    "    for book in john:\n",
    "        if book not in mary:\n",
    "            ls.append(book)\n",
    "    for book in mary:\n",
    "        if book not in john:\n",
    "            ls.append(book)\n",
    "            \n",
    "    return sorted(ls)\n",
    "#     raise NotImplementedError()"
   ]
  },
  {
   "cell_type": "code",
   "execution_count": 20,
   "metadata": {
    "deletable": false,
    "nbgrader": {
     "cell_type": "code",
     "checksum": "9d576e7cceff6cf61d8222516abfec11",
     "grade": false,
     "grade_id": "test-chal-03c",
     "locked": true,
     "schema_version": 3,
     "solution": false,
     "task": false
    },
    "tags": []
   },
   "outputs": [
    {
     "name": "stdout",
     "output_type": "stream",
     "text": [
      "Enter first book title for John (Enter for default example list of books)A\n",
      "Please enter book title for John (leave empty if done) 2: D\n",
      "Please enter book title for John (leave empty if done) 3: GF\n",
      "Please enter book title for John (leave empty if done) 4: A\n",
      "Please enter book title for John (leave empty if done) 5: S\n",
      "Please enter book title for John (leave empty if done) 6: D\n",
      "Please enter book title for John (leave empty if done) 7: \n",
      "Enter first book title for Mary (Enter for default example list of books)A\n",
      "Please enter book title for Mary (leave empty if done) 2: S\n",
      "Please enter book title for Mary (leave empty if done) 3: F\n",
      "Please enter book title for Mary (leave empty if done) 4: \n",
      "Books read by John:\n",
      " * A\n",
      " * D\n",
      " * GF\n",
      " * A\n",
      " * S\n",
      " * D \n",
      "\n",
      "Books read by Mary:\n",
      " * A\n",
      " * S\n",
      " * F \n",
      "\n",
      "Books read only by John or Mary:\n",
      " * D\n",
      " * D\n",
      " * GF \n",
      "\n"
     ]
    }
   ],
   "source": [
    "# Test cell\n",
    "\n",
    "test_challenge_3c(challenge_3c)"
   ]
  },
  {
   "cell_type": "code",
   "execution_count": 23,
   "metadata": {
    "deletable": false,
    "nbgrader": {
     "cell_type": "code",
     "checksum": "ab18383ed593b24f84076c78440e1181",
     "grade": true,
     "grade_id": "assert-chal-03c",
     "locked": true,
     "points": 10,
     "schema_version": 3,
     "solution": false,
     "task": false
    },
    "tags": []
   },
   "outputs": [
    {
     "name": "stdout",
     "output_type": "stream",
     "text": [
      "Call challenge_3c(['The Great Gatsby', 'Pride and Prejudice', 'The Catcher in the Rye', 'Wuthering Heights', 'Frankenstein'], ['Wuthering Heights', 'The Adventures of Huckleberry Finn', 'Jane Eyre', 'Pride and Prejudice', 'Animal Farm']) ... OK\n",
      "Call challenge_3c(['The Stranger', 'Snow Crash', 'Pride and Prejudice', 'Dubliners', 'Animal Farm', 'A Clockwork Orange'], ['Animal Farm', 'Les Miserables', 'One Hundred Years of Solitude', 'The Brothers Karamazov', 'The Iliad', 'The Stranger']) ... OK\n",
      "Call challenge_3c(['The Stranger', \"The Handmaid's Tale\", 'The Brief Wondrous Life of Oscar Wao', 'Mrs. Dalloway', 'A Tale of Two Cities'], ['Mrs. Dalloway', 'The Brief Wondrous Life of Oscar Wao', 'The Canterbury Tales', 'The Catcher in the Rye']) ... OK\n",
      "Call challenge_3c(['To Kill a Mockingbird', 'The Sound and the Fury', 'The Old Man and the Sea', 'The Iliad', 'A Tale of Two Cities'], ['The Count of Monte Cristo', 'The God of Small Things', 'The Iliad', 'To Kill a Mockingbird']) ... OK\n",
      "Call challenge_3c(['The Picture of Dorian Gray', 'Mrs. Dalloway', 'Brave New World', 'A Tale of Two Cities'], ['Crime and Punishment', 'Jane Eyre', 'Mrs. Dalloway', 'The Lord of the Rings']) ... OK\n",
      "Call challenge_3c(['The Outsiders', 'The Iliad', 'The Great Gatsby', 'Great Expectations', 'Brave New World', 'Beloved'], ['Brave New World', 'Crime and Punishment', 'The Bell Jar', 'The Canterbury Tales', 'Things Fall Apart', 'To Kill a Mockingbird']) ... OK\n",
      "\n",
      "Well done! You seem to have solved challenge_3c!\n"
     ]
    }
   ],
   "source": [
    "# Assertion cell\n",
    "\n",
    "check_assertion(challenge_3c)"
   ]
  },
  {
   "cell_type": "markdown",
   "metadata": {
    "deletable": false,
    "nbgrader": {
     "cell_type": "markdown",
     "checksum": "b0607df60a58d1a2dbe07fb39d3bf327",
     "grade": false,
     "grade_id": "next-chal-03c",
     "locked": true,
     "schema_version": 3,
     "solution": false,
     "task": false
    },
    "tags": []
   },
   "source": [
    "## Final remarks\n",
    "\n",
    "You have reached the end of this Precourse test!\n",
    "\n",
    "### Score 0 out of 3\n",
    "If you did not manage to solve this challenge, you have not managed to solve any of the three challenges presented to you. Therefore, we advise you to take a Python course from scratch.\n",
    "\n",
    "A good starting point is the course on [W3Schools](https://www.w3schools.com/python). This course starts at the beginning and lets you play with the Python basics.\n",
    "\n",
    "\n",
    "### Score 1 out of 3\n",
    "If you did manage to solve this challenge, you have managed to solve one of the least difficult challenges. I would be a good idea to practice a bit more with Python before the course starts.\n",
    "\n",
    "A good starting point would be the Python course on [Kaggle](https://www.kaggle.com/learn/python). It briefly goes through the Python basics, which might help you to improve your current Python skills."
   ]
  }
 ],
 "metadata": {
  "colab": {
   "authorship_tag": "ABX9TyMUEcdmwI2GVB9qr8nWeY6I",
   "include_colab_link": true,
   "provenance": []
  },
  "kernelspec": {
   "display_name": "Python 3 (ipykernel)",
   "language": "python",
   "name": "python3"
  },
  "language_info": {
   "codemirror_mode": {
    "name": "ipython",
    "version": 3
   },
   "file_extension": ".py",
   "mimetype": "text/x-python",
   "name": "python",
   "nbconvert_exporter": "python",
   "pygments_lexer": "ipython3",
   "version": "3.8.5"
  }
 },
 "nbformat": 4,
 "nbformat_minor": 4
}
