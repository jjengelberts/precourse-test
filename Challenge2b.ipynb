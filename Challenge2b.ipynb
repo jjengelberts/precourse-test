{
 "cells": [
  {
   "cell_type": "markdown",
   "metadata": {
    "deletable": false,
    "editable": false,
    "id": "KjYmCKn_IqVb",
    "nbgrader": {
     "cell_type": "markdown",
     "checksum": "47e357d0e8b2d025cf9aca975142ca90",
     "grade": false,
     "grade_id": "intro-chal-01",
     "locked": true,
     "schema_version": 3,
     "solution": false,
     "task": false
    },
    "tags": []
   },
   "source": [
    "# A Bit Of Data Science\n",
    "\n",
    "Before you start solving the challenge, press `Ctrl-Enter` (PC) or `Command-Enter` (Mac) in the cell below. It will load the modules needed for testing and auto-grading the challenges. After you did, a number between the square brackets will appear in front of the cell, like - for example:\n",
    "```python\n",
    "[1]\n",
    "```\n",
    "If successful, the following message will appear below the first cell:\n",
    "```python\n",
    "Assertions imported OK\n",
    "Test cells imported OK\n",
    "```"
   ]
  },
  {
   "cell_type": "code",
   "execution_count": null,
   "metadata": {
    "deletable": false,
    "editable": false,
    "id": "h8x4OStuDkXJ",
    "nbgrader": {
     "cell_type": "code",
     "checksum": "32c3bd576482a70f3d7a298778fbf27e",
     "grade": false,
     "grade_id": "import-chal-01",
     "locked": true,
     "schema_version": 3,
     "solution": false,
     "task": false
    },
    "tags": []
   },
   "outputs": [],
   "source": [
    "# Run this cell first!\n",
    "\n",
    "import httpimport\n",
    "with httpimport.github_repo('eur-nl', 'assertions'):\n",
    "    from assertions import *\n",
    "with httpimport.github_repo('jjengelberts', 'precourse-test'):\n",
    "    from test_cells import *"
   ]
  },
  {
   "cell_type": "markdown",
   "metadata": {
    "deletable": false,
    "editable": false,
    "nbgrader": {
     "cell_type": "markdown",
     "checksum": "fbc684924798514eab847dd4ab3f13af",
     "grade": false,
     "grade_id": "spacer-chal-01",
     "locked": true,
     "schema_version": 3,
     "solution": false,
     "task": false
    },
    "tags": []
   },
   "source": [
    "<br>\n",
    "<br>\n",
    "<br>\n",
    "<br>"
   ]
  },
  {
   "cell_type": "markdown",
   "metadata": {
    "deletable": false,
    "editable": false,
    "nbgrader": {
     "cell_type": "markdown",
     "checksum": "3406a922e55220a79b5ef834b9faf10e",
     "grade": false,
     "grade_id": "explain-chal-01",
     "locked": true,
     "schema_version": 3,
     "solution": false,
     "task": false
    },
    "tags": []
   },
   "source": [
    "## Challenge 2b\n",
    "\n",
    "As a Data Scientist, it is quite common to encounter \"dirty\" data. For example, you might have a table with a column that should contain numbers, except some cells contain something else.\n",
    "\n",
    "In this challenge your function `challenge_2b(raw_data)` takes a list corresponding to a column of data where some of the cells contain the word `Missing` (see the example).\n",
    "\n",
    "Finalize `challenge_3b(raw_data)` in such a way that it calculates the average of the numbers present in the list, while excluding the `Missing` values.\n",
    "\n",
    "## Example input\n",
    "```python\n",
    "[1.0, 2.0, 'Missing', 4.0, 5.0, 'Missing', 'Missing', 8.0, 9.0, 10.0]\n",
    "```\n",
    "\n",
    "## Example return value\n",
    "```python\n",
    "5.0\n",
    "```"
   ]
  },
  {
   "cell_type": "code",
   "execution_count": null,
   "metadata": {
    "deletable": false,
    "nbgrader": {
     "cell_type": "code",
     "checksum": "48807225ea1b689e2aab85e2d90ace9b",
     "grade": false,
     "grade_id": "code-chal-01",
     "locked": false,
     "schema_version": 3,
     "solution": true,
     "task": false
    },
    "tags": []
   },
   "outputs": [],
   "source": [
    "# Code cell\n",
    "\n",
    "def challenge_2b(raw_data):\n",
    "    # YOUR CODE HERE\n",
    "    raise NotImplementedError()\n",
    "    return average"
   ]
  },
  {
   "cell_type": "code",
   "execution_count": null,
   "metadata": {
    "deletable": false,
    "editable": false,
    "nbgrader": {
     "cell_type": "code",
     "checksum": "0e8ca04fc7d6e0abe0f222b5ad04a7e1",
     "grade": false,
     "grade_id": "test-chal-01",
     "locked": true,
     "schema_version": 3,
     "solution": false,
     "task": false
    },
    "tags": []
   },
   "outputs": [],
   "source": [
    "# Test cell\n",
    "\n",
    "test_challenge_2b(challenge_2b)"
   ]
  },
  {
   "cell_type": "code",
   "execution_count": null,
   "metadata": {
    "deletable": false,
    "editable": false,
    "nbgrader": {
     "cell_type": "code",
     "checksum": "c34d44740a73e4cc002aab7dd5581859",
     "grade": true,
     "grade_id": "assert-chal-01",
     "locked": true,
     "points": 10,
     "schema_version": 3,
     "solution": false,
     "task": false
    },
    "tags": []
   },
   "outputs": [],
   "source": [
    "# Assertion cell\n",
    "\n",
    "check_assertion(challenge_2b)"
   ]
  },
  {
   "cell_type": "markdown",
   "metadata": {
    "deletable": false,
    "editable": false,
    "nbgrader": {
     "cell_type": "markdown",
     "checksum": "d9c16c020edc6a68b1187d09e0547afd",
     "grade": false,
     "grade_id": "next-chal-01",
     "locked": true,
     "schema_version": 3,
     "solution": false,
     "task": false
    },
    "tags": []
   },
   "source": [
    "## Next challenge\n",
    "\n",
    "If you managed to solve this challenge, please do continue to **Challenge 3b**:\n",
    "\n",
    "<a href=\"https://colab.research.google.com/github/jjengelberts/precourse-test/blob/main/Challenge3b.ipynb\" target=\"_parent\"><img src=\"https://colab.research.google.com/assets/colab-badge.svg\" alt=\"Challenge 3b\"/></a>\n",
    "\n",
    "If you were not able to complete the challenge above, please do continue to **Challenge 3c**:\n",
    "\n",
    "<a href=\"https://colab.research.google.com/github/jjengelberts/precourse-test/blob/main/Challenge3c.ipynb\" target=\"_parent\"><img src=\"https://colab.research.google.com/assets/colab-badge.svg\" alt=\"Challenge 3c\"/></a>"
   ]
  }
 ],
 "metadata": {
  "colab": {
   "authorship_tag": "ABX9TyMUEcdmwI2GVB9qr8nWeY6I",
   "include_colab_link": true,
   "provenance": []
  },
  "kernelspec": {
   "display_name": "Standard",
   "language": "python",
   "name": "standard"
  },
  "language_info": {
   "codemirror_mode": {
    "name": "ipython",
    "version": 3
   },
   "file_extension": ".py",
   "mimetype": "text/x-python",
   "name": "python",
   "nbconvert_exporter": "python",
   "pygments_lexer": "ipython3",
   "version": "3.10.12"
  }
 },
 "nbformat": 4,
 "nbformat_minor": 4
}
