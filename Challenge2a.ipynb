{
 "cells": [
  {
   "cell_type": "markdown",
   "metadata": {
    "deletable": false,
    "editable": false,
    "id": "KjYmCKn_IqVb",
    "nbgrader": {
     "cell_type": "markdown",
     "checksum": "c4b63c419bc7cf3d03e95ce7c640bc91",
     "grade": false,
     "grade_id": "intro-chal-01",
     "locked": true,
     "schema_version": 3,
     "solution": false,
     "task": false
    },
    "tags": []
   },
   "source": [
    "# Let's play chess!\n",
    "\n",
    "Before you start solving the challenge, press `Ctrl-Enter` (PC) or `Command-Enter` (Mac) in the cell below. It will load the modules needed for testing and auto-grading the challenges. After you did, a number between the square brackets will appear in front of the cell, like - for example:\n",
    "```python\n",
    "[1]\n",
    "```\n",
    "If successful, the following message will appear below the first cell:\n",
    "```python\n",
    "Assertions imported OK\n",
    "Test cells imported OK\n",
    "```"
   ]
  },
  {
   "cell_type": "code",
   "execution_count": null,
   "metadata": {
    "deletable": false,
    "editable": false,
    "id": "h8x4OStuDkXJ",
    "nbgrader": {
     "cell_type": "code",
     "checksum": "32c3bd576482a70f3d7a298778fbf27e",
     "grade": false,
     "grade_id": "import-chal-01",
     "locked": true,
     "schema_version": 3,
     "solution": false,
     "task": false
    },
    "tags": []
   },
   "outputs": [],
   "source": [
    "# Run this cell first!\n",
    "\n",
    "import httpimport\n",
    "with httpimport.github_repo('eur-nl', 'assertions'):\n",
    "    from assertions import *\n",
    "with httpimport.github_repo('jjengelberts', 'precourse-test'):\n",
    "    from test_cells import *"
   ]
  },
  {
   "cell_type": "markdown",
   "metadata": {
    "deletable": false,
    "editable": false,
    "nbgrader": {
     "cell_type": "markdown",
     "checksum": "fbc684924798514eab847dd4ab3f13af",
     "grade": false,
     "grade_id": "spacer-chal-01",
     "locked": true,
     "schema_version": 3,
     "solution": false,
     "task": false
    },
    "tags": []
   },
   "source": [
    "<br>\n",
    "<br>\n",
    "<br>\n",
    "<br>"
   ]
  },
  {
   "cell_type": "markdown",
   "metadata": {
    "deletable": false,
    "editable": false,
    "nbgrader": {
     "cell_type": "markdown",
     "checksum": "37f1cc08fce59756089f89c02a90fe4a",
     "grade": false,
     "grade_id": "explain-chal-01",
     "locked": true,
     "schema_version": 3,
     "solution": false,
     "task": false
    },
    "tags": []
   },
   "source": [
    "## Challenge 2a\n",
    "One of the stronger pieces in chess is the rook. Rooks move along rows or columns. In Figure 1, you will see a white rook on d5 with crosses horizontally and vertically indicating the possible squares it can move to. \n",
    "<div>\n",
    "    <img src=\"https://raw.githubusercontent.com/jjengelberts/precourse-test/main/figures/rookmoves.svg\" align=\"left\" width=\"450\"/><br clear=\"all\">\n",
    "    <b>Figure 1</b>\n",
    "</div>\n",
    "<br>\n",
    "\n",
    "Finalize function `challenge_2a(square)` in such a way that it returns a list `possible` that will contain all possible squares the rook can move to (on an otherwise empty board) given that the rook is presently on the `square` given by the argument. Note that the list is returned in **sorted** order, you don't have to sort it yourself.\n",
    "\n",
    "**NB**: Looping through rows and columns will also result in adding the current square the rook is on, if you do not take precautions. Be aware of this and make sure **not** to include the given square in your `possible` moves list!\n",
    "\n",
    "\n",
    "## Example input\n",
    "```python\n",
    "D5\n",
    "```\n",
    "\n",
    "## Example return value\n",
    "```python\n",
    "['A5', 'B5', 'C5', 'D1', 'D2', 'D3', 'D4', 'D6', 'D7', 'D8', 'E5', 'F5', 'G5', 'H5']\n",
    "```"
   ]
  },
  {
   "cell_type": "code",
   "execution_count": null,
   "metadata": {
    "deletable": false,
    "nbgrader": {
     "cell_type": "code",
     "checksum": "668028f94ac1a4337ff5faaa6111ef20",
     "grade": false,
     "grade_id": "code-chal-01",
     "locked": false,
     "schema_version": 3,
     "solution": true,
     "task": false
    },
    "tags": []
   },
   "outputs": [],
   "source": [
    "# Code cell\n",
    "\n",
    "def challenge_2a(square):\n",
    "    col_char = ['A', 'B', 'C', 'D', 'E', 'F', 'G', 'H']\n",
    "    row_char = ['1', '2', '3', '4', '5', '6', '7', '8']\n",
    "\n",
    "    # Converting row and column letters to zero-based indices!\n",
    "    # 'a4' will result in col=0 and row=3\n",
    "    # 'c6' will result in col=2 and row=5\n",
    "    col = col_char.index(square[0])\n",
    "    row = row_char.index(square[1])\n",
    "    \n",
    "    possible = []\n",
    "    # YOUR CODE HERE\n",
    "    raise NotImplementedError()\n",
    "\n",
    "    return sorted(possible)"
   ]
  },
  {
   "cell_type": "code",
   "execution_count": null,
   "metadata": {
    "deletable": false,
    "editable": false,
    "nbgrader": {
     "cell_type": "code",
     "checksum": "d160ded90f107e18c2c038de93bcd2a1",
     "grade": false,
     "grade_id": "test-chal-01",
     "locked": true,
     "schema_version": 3,
     "solution": false,
     "task": false
    },
    "tags": []
   },
   "outputs": [],
   "source": [
    "# Test cell\n",
    "\n",
    "test_challenge_2a(challenge_2a)"
   ]
  },
  {
   "cell_type": "code",
   "execution_count": null,
   "metadata": {
    "deletable": false,
    "editable": false,
    "nbgrader": {
     "cell_type": "code",
     "checksum": "b089e6f3ec57d37746c59b06bc928815",
     "grade": true,
     "grade_id": "assert-chal-01",
     "locked": true,
     "points": 10,
     "schema_version": 3,
     "solution": false,
     "task": false
    },
    "tags": []
   },
   "outputs": [],
   "source": [
    "# Assertion cell\n",
    "\n",
    "check_assertion(challenge_2a)"
   ]
  },
  {
   "cell_type": "markdown",
   "metadata": {
    "deletable": false,
    "editable": false,
    "nbgrader": {
     "cell_type": "markdown",
     "checksum": "584bee7a65e49316dd43eaf8898aaa0f",
     "grade": false,
     "grade_id": "next-chal-01",
     "locked": true,
     "schema_version": 3,
     "solution": false,
     "task": false
    },
    "tags": []
   },
   "source": [
    "## Next challenge\n",
    "\n",
    "If you managed to solve this challenge, please do continue to **Challenge 3a**:\n",
    "\n",
    "<a href=\"https://colab.research.google.com/github/jjengelberts/precourse-test/blob/main/Challenge3a.ipynb\" target=\"_parent\"><img src=\"https://colab.research.google.com/assets/colab-badge.svg\" alt=\"Challenge 3a\"/></a>\n",
    "\n",
    "If you were not able to complete the challenge above, please do continue to **Challenge 3b**:\n",
    "\n",
    "<a href=\"https://colab.research.google.com/github/jjengelberts/precourse-test/blob/main/Challenge3b.ipynb\" target=\"_parent\"><img src=\"https://colab.research.google.com/assets/colab-badge.svg\" alt=\"Challenge 3b\"/></a>"
   ]
  }
 ],
 "metadata": {
  "colab": {
   "authorship_tag": "ABX9TyMUEcdmwI2GVB9qr8nWeY6I",
   "include_colab_link": true,
   "provenance": []
  },
  "kernelspec": {
   "display_name": "Standard",
   "language": "python",
   "name": "standard"
  },
  "language_info": {
   "codemirror_mode": {
    "name": "ipython",
    "version": 3
   },
   "file_extension": ".py",
   "mimetype": "text/x-python",
   "name": "python",
   "nbconvert_exporter": "python",
   "pygments_lexer": "ipython3",
   "version": "3.10.12"
  }
 },
 "nbformat": 4,
 "nbformat_minor": 4
}
